{
 "cells": [
  {
   "cell_type": "code",
   "execution_count": 1,
   "metadata": {},
   "outputs": [
    {
     "name": "stdout",
     "output_type": "stream",
     "text": [
      "[nltk_data] Downloading package punkt to /Users/binoy/nltk_data...\n",
      "[nltk_data]   Package punkt is already up-to-date!\n"
     ]
    }
   ],
   "source": [
    "import numpy as np\n",
    "import tensorflow as tf\n",
    "import pickle\n",
    "import nltk\n",
    "import word_preprocessing as wp\n",
    "\n",
    "from nltk.stem.lancaster import LancasterStemmer\n",
    "stemmer = LancasterStemmer()\n",
    "\n",
    "from nltk.stem import WordNetLemmatizer\n",
    "lemmatizer = WordNetLemmatizer()\n",
    "\n"
   ]
  },
  {
   "cell_type": "code",
   "execution_count": 2,
   "metadata": {},
   "outputs": [
    {
     "name": "stdout",
     "output_type": "stream",
     "text": [
      "['hi', 'the', 'be', 'who', 'room', 'tim', 'nam', 'loc', 'meet', 'start', 'would', 'classroom', 'conduc', 'deep', 'plac', 'of', 'hey', 'is', 'when', 'build', 'learn', 'for', 'class', 'doe', 'teach', 'wher', 'lect', 'thi', 'cmpe297', 'profess', 'hello', 'subject', 'cours', 'tak', 'what']\n",
      "['location', 'professor', 'time']\n"
     ]
    }
   ],
   "source": [
    "data = pickle.load( open( \"training_data\", \"rb\" ) )\n",
    "all_uniq_words = data['all_uniq_words']\n",
    "uniq_ml_classes = data['uniq_ml_classes']\n",
    "print(all_uniq_words)\n",
    "print(uniq_ml_classes)\n",
    "\n",
    "processor  =  wp.Word_Processor('../grammar/', uniq_ml_classes)"
   ]
  },
  {
   "cell_type": "code",
   "execution_count": 3,
   "metadata": {},
   "outputs": [
    {
     "name": "stdout",
     "output_type": "stream",
     "text": [
      "INFO:tensorflow:Using default config.\n",
      "INFO:tensorflow:Using config: {'_task_type': None, '_task_id': 0, '_cluster_spec': <tensorflow.python.training.server_lib.ClusterSpec object at 0x11673cfd0>, '_master': '', '_num_ps_replicas': 0, '_num_worker_replicas': 0, '_environment': 'local', '_is_chief': True, '_evaluation_master': '', '_tf_config': gpu_options {\n",
      "  per_process_gpu_memory_fraction: 1\n",
      "}\n",
      ", '_tf_random_seed': None, '_save_summary_steps': 100, '_save_checkpoints_secs': 600, '_log_step_count_steps': 100, '_session_config': None, '_save_checkpoints_steps': None, '_keep_checkpoint_max': 5, '_keep_checkpoint_every_n_hours': 10000, '_model_dir': './chat_model'}\n"
     ]
    }
   ],
   "source": [
    "feature_columns=[tf.contrib.layers.real_valued_column(column_name='', dimension=35, default_value=None, dtype=tf.int64, normalizer=None)]\n",
    "dnn_clf = tf.contrib.learn.DNNClassifier(hidden_units=[10, 10], n_classes=3, feature_columns=feature_columns, model_dir=\"./chat_model\")\n"
   ]
  },
  {
   "cell_type": "code",
   "execution_count": 7,
   "metadata": {},
   "outputs": [
    {
     "name": "stdout",
     "output_type": "stream",
     "text": [
      "WARNING:tensorflow:From /usr/local/lib/python3.6/site-packages/tensorflow/python/util/deprecation.py:355: calling DNNClassifier.predict (from tensorflow.contrib.learn.python.learn.estimators.dnn) with outputs=None is deprecated and will be removed after 2017-03-01.\n",
      "Instructions for updating:\n",
      "Please switch to predict_classes, or set `outputs` argument.\n",
      "WARNING:tensorflow:From /usr/local/lib/python3.6/site-packages/tensorflow/contrib/learn/python/learn/estimators/dnn.py:452: calling BaseEstimator.predict (from tensorflow.contrib.learn.python.learn.estimators.estimator) with x is deprecated and will be removed after 2016-12-01.\n",
      "Instructions for updating:\n",
      "Estimator is decoupled from Scikit Learn interface by moving into\n",
      "separate class SKCompat. Arguments x, y and batch_size are only\n",
      "available in the SKCompat class, Estimator will only accept input_fn.\n",
      "Example conversion:\n",
      "  est = Estimator(...) -> est = SKCompat(Estimator(...))\n",
      "INFO:tensorflow:Restoring parameters from ./chat_model/model.ckpt-20000\n",
      "[[0 0 0 0 0 0 0 0 0 1 0 0 0 0 0 0 0 0 1 0 0 0 1 0 0 0 0 0 0 0 0 0 0 0 0]]\n",
      "[2]\n",
      "time\n"
     ]
    }
   ],
   "source": [
    "a = \"who is the professor\"\n",
    "# a = \"where is class?\"\n",
    "# a = \"yo when class start eh?\"\n",
    "\n",
    "x = processor.vectorize(a, all_uniq_words)\n",
    "\n",
    "test_X = np.array(x).reshape(1, -1)\n",
    "y_pred = list(dnn_clf.predict(test_X))\n",
    "print(test_X)\n",
    "print(y_pred)\n",
    "print(uniq_ml_classes[y_pred[0]])"
   ]
  },
  {
   "cell_type": "code",
   "execution_count": 5,
   "metadata": {},
   "outputs": [
    {
     "name": "stdout",
     "output_type": "stream",
     "text": [
      "['hi', 'the', 'be', 'who', 'room', 'tim', 'nam', 'loc', 'meet', 'start', 'would', 'classroom', 'conduc', 'deep', 'plac', 'of', 'hey', 'is', 'when', 'build', 'learn', 'for', 'class', 'doe', 'teach', 'wher', 'lect', 'thi', 'cmpe297', 'profess', 'hello', 'subject', 'cours', 'tak', 'what']\n"
     ]
    }
   ],
   "source": [
    "print(all_uniq_words)"
   ]
  },
  {
   "cell_type": "code",
   "execution_count": null,
   "metadata": {
    "collapsed": true
   },
   "outputs": [],
   "source": []
  }
 ],
 "metadata": {
  "kernelspec": {
   "display_name": "Python 3",
   "language": "python",
   "name": "python3"
  },
  "language_info": {
   "codemirror_mode": {
    "name": "ipython",
    "version": 3
   },
   "file_extension": ".py",
   "mimetype": "text/x-python",
   "name": "python",
   "nbconvert_exporter": "python",
   "pygments_lexer": "ipython3",
   "version": "3.6.3"
  }
 },
 "nbformat": 4,
 "nbformat_minor": 2
}
