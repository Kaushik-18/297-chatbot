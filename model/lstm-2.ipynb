{
 "cells": [
  {
   "cell_type": "code",
   "execution_count": 1,
   "metadata": {},
   "outputs": [
    {
     "name": "stdout",
     "output_type": "stream",
     "text": [
      "hdf5 is not supported on this machine (please install/reinstall h5py for optimal experience)\n",
      "[nltk_data] Downloading package punkt to /Users/binoy/nltk_data...\n",
      "[nltk_data]   Package punkt is already up-to-date!\n"
     ]
    }
   ],
   "source": [
    "import numpy as np\n",
    "import tensorflow as tf\n",
    "import tflearn\n",
    "from tflearn.data_utils import to_categorical, pad_sequences\n",
    "import word_preprocessing as wp"
   ]
  },
  {
   "cell_type": "code",
   "execution_count": 2,
   "metadata": {
    "collapsed": true
   },
   "outputs": [],
   "source": [
    "ml_classes = ['location', 'professor', 'time', 'professor_office_hours',\n",
    "              'professor_office_location', 'project_details', 'syllabus',\n",
    "              'exam_details']\n",
    "\n",
    "processor  =  wp.Word_Processor('../grammar/')\n",
    "feature_set,class_set,lexicon_size = processor.words_to_vectors()\n"
   ]
  },
  {
   "cell_type": "code",
   "execution_count": 3,
   "metadata": {},
   "outputs": [
    {
     "name": "stdout",
     "output_type": "stream",
     "text": [
      "(8328, 55, 1) (8328,)\n"
     ]
    }
   ],
   "source": [
    "lstm_units = 128\n",
    "batch_size = 10\n",
    "lstm_layers = 1\n",
    "learning_rate = 0.01\n",
    "\n",
    "def split_sets(data, classes ,split_point = 1):\n",
    "    split_length  = int(data.shape[0] * split_point)\n",
    "    training_features = data[:split_length]\n",
    "    training_ops = classes[:split_length]\n",
    "    testing_features = data[split_length:]\n",
    "    testing_ops = classes[split_length:]\n",
    "    return training_features,training_ops,testing_features,testing_ops\n",
    "\n",
    "# currently using all data for training \n",
    "trainX,trainY,_,_ = split_sets(feature_set, class_set)\n",
    "trainX = np.reshape(trainX, newshape=[trainX.shape[0],trainX.shape[1],1])\n",
    "print(trainX.shape, trainY.shape)"
   ]
  },
  {
   "cell_type": "code",
   "execution_count": 4,
   "metadata": {},
   "outputs": [
    {
     "name": "stdout",
     "output_type": "stream",
     "text": [
      "Training Step: 8329  | total loss: \u001b[1m\u001b[32m0.78212\u001b[0m\u001b[0m | time: 29.994s\n",
      "| Adam | epoch: 010 | loss: 0.78212 - acc: 0.6934 -- iter: 8320/8328\n",
      "Training Step: 8330  | total loss: \u001b[1m\u001b[32m0.81264\u001b[0m\u001b[0m | time: 30.028s\n",
      "| Adam | epoch: 010 | loss: 0.81264 - acc: 0.6841 -- iter: 8328/8328\n",
      "--\n"
     ]
    }
   ],
   "source": [
    "lstm_net =  tflearn.input_data(shape=[None,lexicon_size,1])\n",
    "trainY = to_categorical(trainY, nb_classes=len(ml_classes))\n",
    "#lstm_net = tflearn.embedding(lstm_net)\n",
    "lstm_net =  tflearn.lstm(lstm_net,128)\n",
    "lstm_net = tflearn.fully_connected(lstm_net,n_units=len(ml_classes),activation='softmax')\n",
    "lstm_net = tflearn.regression(lstm_net, optimizer='adam', learning_rate=0.01,\n",
    "                         loss='categorical_crossentropy')\n",
    "\n",
    "model = tflearn.DNN(lstm_net, tensorboard_verbose=0)\n",
    "model.fit(trainX, trainY,show_metric=True,batch_size=10,n_epoch=10)\n"
   ]
  },
  {
   "cell_type": "code",
   "execution_count": 6,
   "metadata": {},
   "outputs": [
    {
     "name": "stdout",
     "output_type": "stream",
     "text": [
      "[[4 3 7 5 0 2 1 6]]\n",
      "[[  1.04392491e-01   1.22834351e-02   4.03485186e-02   2.13768974e-01\n",
      "    2.55884111e-01   1.63451731e-01   1.04475555e-04   2.09766299e-01]]\n"
     ]
    }
   ],
   "source": [
    "test_x = \"where is the class\"\n",
    "tr_data = processor.vectorize_input(test_x)\n",
    "tr_data = np.reshape(tr_data, newshape=[1,lexicon_size,1])\n",
    "predicted_class = model.predict_label(tr_data)\n",
    "predicted_values =  model.predict(tr_data)\n",
    "print(predicted_class)\n",
    "print(predicted_values)"
   ]
  },
  {
   "cell_type": "code",
   "execution_count": null,
   "metadata": {
    "collapsed": true
   },
   "outputs": [],
   "source": []
  }
 ],
 "metadata": {
  "kernelspec": {
   "display_name": "Python 3",
   "language": "python",
   "name": "python3"
  },
  "language_info": {
   "codemirror_mode": {
    "name": "ipython",
    "version": 3
   },
   "file_extension": ".py",
   "mimetype": "text/x-python",
   "name": "python",
   "nbconvert_exporter": "python",
   "pygments_lexer": "ipython3",
   "version": "3.6.3"
  }
 },
 "nbformat": 4,
 "nbformat_minor": 2
}
