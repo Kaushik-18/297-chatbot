{
 "cells": [
  {
   "cell_type": "code",
   "execution_count": 1,
   "metadata": {},
   "outputs": [
    {
     "name": "stdout",
     "output_type": "stream",
     "text": [
      "[nltk_data] Downloading package punkt to /home/kaushik/nltk_data...\n",
      "[nltk_data]   Package punkt is already up-to-date!\n"
     ]
    }
   ],
   "source": [
    "import numpy as np\n",
    "import tensorflow as tf\n",
    "import word_preprocessing as wp"
   ]
  },
  {
   "cell_type": "code",
   "execution_count": 2,
   "metadata": {},
   "outputs": [],
   "source": [
    "ml_classes = ['location', 'professor', 'time']\n",
    "processor  =  wp.Word_Processor('../grammar/')\n",
    "feature_set,class_set,lexicon_size = processor.words_to_vectors()\n"
   ]
  },
  {
   "cell_type": "code",
   "execution_count": 3,
   "metadata": {},
   "outputs": [],
   "source": [
    "lstm_units = 256\n",
    "batch_size = 10\n",
    "lstm_layers = 1\n",
    "learning_rate = 0.01\n",
    "\n",
    "def split_sets(data, classes ,split_point = 1):\n",
    "    split_length  = int(data.shape[0] * split_point)\n",
    "    training_features = data[:split_length]\n",
    "    training_ops = classes[:split_length]\n",
    "    testing_features = data[split_length:]\n",
    "    testing_ops = classes[split_length:]\n",
    "    return training_features,training_ops,testing_features,testing_ops\n",
    "\n",
    "train_x,train_y,test_x,test_y = split_sets(feature_set, class_set)\n"
   ]
  },
  {
   "cell_type": "code",
   "execution_count": 4,
   "metadata": {},
   "outputs": [],
   "source": [
    "outputs = tf.placeholder(tf.int64 , [batch_size, 1])\n",
    "y  = tf.one_hot(indices=outputs,depth=len(ml_classes))\n",
    "inputs = tf.placeholder(tf.float64, [batch_size, lexicon_size, 1], name=\"inputs\")\n",
    "\n",
    "\n",
    "def create_lstm_network(batch_size,inputs):\n",
    "    def create_lstm_cell(units):\n",
    "        lstm  = tf.contrib.rnn.BasicLSTMCell(units)\n",
    "        return tf.contrib.rnn.DropoutWrapper(lstm, output_keep_prob=1)\n",
    "\n",
    "    def create_stacked_lstm(layers, units):\n",
    "        return tf.contrib.rnn.MultiRNNCell([create_lstm_cell(units) for _ in range(layers)])\n",
    "    \n",
    "    cell =  create_lstm_cell(lstm_units)\n",
    "    inits = cell.zero_state(batch_size,tf.float64)\n",
    "    lstm_outputs,states =  tf.nn.dynamic_rnn(cell, inputs, dtype=tf.float64, initial_state=inits)\n",
    "    predictions = tf.contrib.layers.fully_connected(lstm_outputs[:, -1], num_outputs= len(ml_classes), activation_fn=tf.nn.relu)\n",
    "    return predictions"
   ]
  },
  {
   "cell_type": "code",
   "execution_count": 5,
   "metadata": {},
   "outputs": [],
   "source": [
    "pred = create_lstm_network(batch_size,inputs)\n",
    "cost = tf.reduce_mean(tf.nn.softmax_cross_entropy_with_logits(labels = y,logits=pred))\n",
    "tf.summary.scalar('cost', cost)\n",
    "optimizer = tf.train.AdamOptimizer(learning_rate = learning_rate).minimize(cost)\n",
    "tf.summary.histogram('predictions', pred)\n",
    "merged = tf.summary.merge_all()"
   ]
  },
  {
   "cell_type": "code",
   "execution_count": 6,
   "metadata": {},
   "outputs": [],
   "source": [
    "def get_batches(x, y, batch_size=100):\n",
    "    n_batches = len(x)//batch_size\n",
    "    x, y = x[:n_batches*batch_size], y[:n_batches*batch_size]\n",
    "    for ii in range(0, len(x), batch_size):\n",
    "        yield np.array(x[ii:ii+batch_size]), np.array(y[ii:ii+batch_size])"
   ]
  },
  {
   "cell_type": "code",
   "execution_count": 7,
   "metadata": {
    "scrolled": false
   },
   "outputs": [
    {
     "name": "stdout",
     "output_type": "stream",
     "text": [
      "Epoch: 0/10 Iteration: 100 Train loss: 0.239\n",
      "Epoch: 0/10 Iteration: 200 Train loss: 0.906\n",
      "Epoch: 1/10 Iteration: 300 Train loss: 0.442\n",
      "Epoch: 1/10 Iteration: 400 Train loss: 0.665\n",
      "Epoch: 1/10 Iteration: 500 Train loss: 0.447\n",
      "Epoch: 2/10 Iteration: 600 Train loss: 0.440\n",
      "Epoch: 2/10 Iteration: 700 Train loss: 0.442\n",
      "Epoch: 2/10 Iteration: 800 Train loss: 0.659\n",
      "Epoch: 3/10 Iteration: 900 Train loss: 0.659\n",
      "Epoch: 3/10 Iteration: 1000 Train loss: 0.223\n",
      "Epoch: 3/10 Iteration: 1100 Train loss: 0.663\n",
      "Epoch: 4/10 Iteration: 1200 Train loss: 0.879\n",
      "Epoch: 4/10 Iteration: 1300 Train loss: 0.454\n",
      "Epoch: 4/10 Iteration: 1400 Train loss: 0.225\n",
      "Epoch: 5/10 Iteration: 1500 Train loss: 0.659\n",
      "Epoch: 5/10 Iteration: 1600 Train loss: 0.440\n",
      "Epoch: 5/10 Iteration: 1700 Train loss: 0.440\n",
      "Epoch: 6/10 Iteration: 1800 Train loss: 0.659\n",
      "Epoch: 6/10 Iteration: 1900 Train loss: 0.879\n",
      "Epoch: 6/10 Iteration: 2000 Train loss: 0.440\n",
      "Epoch: 7/10 Iteration: 2100 Train loss: 0.220\n",
      "Epoch: 7/10 Iteration: 2200 Train loss: 0.439\n",
      "Epoch: 7/10 Iteration: 2300 Train loss: 0.220\n",
      "Epoch: 8/10 Iteration: 2400 Train loss: 0.439\n",
      "Epoch: 8/10 Iteration: 2500 Train loss: 0.440\n",
      "Epoch: 8/10 Iteration: 2600 Train loss: 0.407\n",
      "Epoch: 9/10 Iteration: 2700 Train loss: 0.440\n",
      "Epoch: 9/10 Iteration: 2800 Train loss: 0.662\n",
      "Epoch: 9/10 Iteration: 2900 Train loss: 0.003\n"
     ]
    }
   ],
   "source": [
    "epochs = 10\n",
    "from tensorflow.python import debug as tf_debug\n",
    "\n",
    "saver = tf.train.Saver()\n",
    "with tf.Session() as sess:\n",
    "    sess.run(tf.global_variables_initializer())\n",
    "   # sess = tf_debug.LocalCLIDebugWrapperSession(sess)\n",
    "   # sess.add_tensor_filter(\"has_inf_or_nan\", tf_debug.has_inf_or_nan)\n",
    "    train_writer = tf.summary.FileWriter('./logs/lstm-chatbot/train', sess.graph)\n",
    "    test_writer = tf.summary.FileWriter('./logs/lstm-chatbot/test', sess.graph)\n",
    "    iteration = 1\n",
    "    for epoch in range(epochs):\n",
    "        #state = sess.run(initial_state)\n",
    "        for ii, (x, y) in enumerate(get_batches(train_x, train_y, batch_size), 1):\n",
    "            x  =  np.reshape(x, newshape = [batch_size ,lexicon_size, 1])\n",
    "            y =  np.reshape(y, newshape=[batch_size,1])\n",
    "            feed = {inputs: x,outputs : y}\n",
    "            #sess.run(outputs, feed_dict=feed)\n",
    "            #print(outputs.eval(feed_dict=feed))\n",
    "            summary, loss, _ = sess.run([merged, cost, optimizer], feed_dict=feed)\n",
    "            train_writer.add_summary(summary, iteration)\n",
    "        \n",
    "            if iteration%100 == 0:\n",
    "                print(\"Epoch: {}/{}\".format(epoch, epochs),\n",
    "                      \"Iteration: {}\".format(iteration),\n",
    "                      \"Train loss: {:.3f}\".format(loss))\n",
    "            iteration +=1\n",
    "     \n",
    "            \n",
    "    saver.save(sess, \"checkpoints/lstm_chatbot.ckpt\")\n",
    " \n",
    "    \n",
    "    \n",
    "    "
   ]
  },
  {
   "cell_type": "code",
   "execution_count": 11,
   "metadata": {},
   "outputs": [
    {
     "name": "stdout",
     "output_type": "stream",
     "text": [
      "INFO:tensorflow:Restoring parameters from checkpoints/lstm_chatbot.ckpt\n",
      "[[ 0.01942878  0.00412852  0.01926505]]\n"
     ]
    }
   ],
   "source": [
    "tf.reset_default_graph()\n",
    "with tf.Session() as sess:\n",
    "    test_batch = 1\n",
    "    test_input = tf.placeholder(tf.float64, [test_batch, lexicon_size, 1], name=\"test_inputs\")\n",
    "    #test_prediction = create_lstm_network(test_batch, test_input)\n",
    "    sess.run(tf.global_variables_initializer())\n",
    "    saver = tf.train.import_meta_graph('checkpoints/lstm_chatbot.ckpt.meta')\n",
    "    saver.restore(sess,tf.train.latest_checkpoint('checkpoints/'))\n",
    "    tr_data = processor.vectorize_input(\"who is teacher\")    \n",
    "    tr_data = np.reshape(tr_data, newshape=[test_batch, lexicon_size , 1])\n",
    "    pred_class = sess.run(test_prediction, feed_dict={test_input:tr_data})\n",
    "    print(pred_class)\n",
    "\n",
    "\n",
    "\n",
    "\n",
    "\n",
    "\n",
    "\n",
    "\n",
    "\n",
    "    "
   ]
  },
  {
   "cell_type": "code",
   "execution_count": null,
   "metadata": {},
   "outputs": [],
   "source": []
  },
  {
   "cell_type": "code",
   "execution_count": null,
   "metadata": {},
   "outputs": [],
   "source": []
  }
 ],
 "metadata": {
  "kernelspec": {
   "display_name": "Python 3",
   "language": "python",
   "name": "python3"
  },
  "language_info": {
   "codemirror_mode": {
    "name": "ipython",
    "version": 3
   },
   "file_extension": ".py",
   "mimetype": "text/x-python",
   "name": "python",
   "nbconvert_exporter": "python",
   "pygments_lexer": "ipython3",
   "version": "3.5.2"
  }
 },
 "nbformat": 4,
 "nbformat_minor": 2
}
