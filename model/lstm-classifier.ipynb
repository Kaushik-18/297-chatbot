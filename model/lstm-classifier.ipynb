{
 "cells": [
  {
   "cell_type": "code",
   "execution_count": 1,
   "metadata": {},
   "outputs": [
    {
     "name": "stdout",
     "output_type": "stream",
     "text": [
      "[nltk_data] Downloading package punkt to /home/kaushik/nltk_data...\n",
      "[nltk_data]   Package punkt is already up-to-date!\n"
     ]
    }
   ],
   "source": [
    "import numpy as np\n",
    "import tensorflow as tf\n",
    "import word_preprocessing as wp"
   ]
  },
  {
   "cell_type": "code",
   "execution_count": 2,
   "metadata": {
    "collapsed": true
   },
   "outputs": [],
   "source": [
    "ml_classes = ['location', 'professor', 'time']\n",
    "processor  =  wp.Word_Processor('../grammar/')\n",
    "feature_set,class_set,lexicon_size = processor.words_to_vectors()\n"
   ]
  },
  {
   "cell_type": "code",
   "execution_count": 3,
   "metadata": {
    "collapsed": true
   },
   "outputs": [],
   "source": [
    "lstm_units = 128\n",
    "batch_size = 10\n",
    "lstm_layers = 1\n",
    "learning_rate = 0.01\n",
    "\n",
    "def split_sets(data, classes ,split_point = 1):\n",
    "    split_length  = int(data.shape[0] * split_point)\n",
    "    training_features = data[:split_length]\n",
    "    training_ops = classes[:split_length]\n",
    "    testing_features = data[split_length:]\n",
    "    testing_ops = classes[split_length:]\n",
    "    return training_features,training_ops,testing_features,testing_ops\n",
    "\n",
    "train_x,train_y,test_x,test_y = split_sets(feature_set, class_set)\n"
   ]
  },
  {
   "cell_type": "code",
   "execution_count": 4,
   "metadata": {
    "collapsed": true
   },
   "outputs": [],
   "source": [
    "outputs = tf.placeholder(tf.int64 , [batch_size, 1])\n",
    "y  = tf.one_hot(indices=outputs,depth=len(ml_classes))\n",
    "inputs = tf.placeholder(tf.float64, [batch_size, lexicon_size, 1], name=\"inputs\")\n",
    "\n",
    "\n",
    "def create_lstm_network(batch_size,inputs):\n",
    "    def create_lstm_cell(units):\n",
    "        lstm  = tf.contrib.rnn.BasicLSTMCell(units)\n",
    "        return tf.contrib.rnn.DropoutWrapper(lstm, output_keep_prob=1)\n",
    "\n",
    "    def create_stacked_lstm(layers, units):\n",
    "        return tf.contrib.rnn.MultiRNNCell([create_lstm_cell(units) for _ in range(layers)])\n",
    "    \n",
    "    cell =  create_lstm_cell(lstm_units)\n",
    "    inits = cell.zero_state(batch_size,tf.float64)\n",
    "    lstm_outputs,states =  tf.nn.dynamic_rnn(cell, inputs, dtype=tf.float64, initial_state=inits)\n",
    "    predictions = tf.contrib.layers.fully_connected(lstm_outputs[:, -1], num_outputs= len(ml_classes), activation_fn=tf.nn.relu)\n",
    "    return predictions"
   ]
  },
  {
   "cell_type": "code",
   "execution_count": 5,
   "metadata": {
    "collapsed": true
   },
   "outputs": [],
   "source": [
    "pred = create_lstm_network(batch_size,inputs)\n",
    "cost = tf.reduce_mean(tf.nn.softmax_cross_entropy_with_logits(labels = y,logits=pred))\n",
    "tf.summary.scalar('cost', cost)\n",
    "optimizer = tf.train.AdamOptimizer(learning_rate = learning_rate).minimize(cost)\n",
    "tf.summary.histogram('predictions', pred)\n",
    "merged = tf.summary.merge_all()"
   ]
  },
  {
   "cell_type": "code",
   "execution_count": 6,
   "metadata": {
    "collapsed": true
   },
   "outputs": [],
   "source": [
    "def get_batches(x, y, batch_size=100):\n",
    "    n_batches = len(x)//batch_size\n",
    "    x, y = x[:n_batches*batch_size], y[:n_batches*batch_size]\n",
    "    for ii in range(0, len(x), batch_size):\n",
    "        yield np.array(x[ii:ii+batch_size]), np.array(y[ii:ii+batch_size])"
   ]
  },
  {
   "cell_type": "code",
   "execution_count": 7,
   "metadata": {
    "scrolled": false
   },
   "outputs": [
    {
     "name": "stdout",
     "output_type": "stream",
     "text": [
      "Epoch: 0/25 Iteration: 100 Train loss: 0.933\n",
      "Epoch: 1/25 Iteration: 200 Train loss: 0.833\n",
      "Epoch: 2/25 Iteration: 300 Train loss: 0.457\n",
      "Epoch: 2/25 Iteration: 400 Train loss: 1.161\n",
      "Epoch: 3/25 Iteration: 500 Train loss: 0.321\n",
      "Epoch: 4/25 Iteration: 600 Train loss: 0.480\n",
      "Epoch: 4/25 Iteration: 700 Train loss: 0.312\n",
      "Epoch: 5/25 Iteration: 800 Train loss: 0.144\n",
      "Epoch: 6/25 Iteration: 900 Train loss: 0.242\n",
      "Epoch: 6/25 Iteration: 1000 Train loss: 0.085\n",
      "Epoch: 7/25 Iteration: 1100 Train loss: 0.181\n",
      "Epoch: 8/25 Iteration: 1200 Train loss: 0.460\n",
      "Epoch: 8/25 Iteration: 1300 Train loss: 0.119\n",
      "Epoch: 9/25 Iteration: 1400 Train loss: 0.156\n",
      "Epoch: 10/25 Iteration: 1500 Train loss: 0.151\n",
      "Epoch: 11/25 Iteration: 1600 Train loss: 0.295\n",
      "Epoch: 11/25 Iteration: 1700 Train loss: 0.062\n",
      "Epoch: 12/25 Iteration: 1800 Train loss: 0.439\n",
      "Epoch: 13/25 Iteration: 1900 Train loss: 0.248\n",
      "Epoch: 13/25 Iteration: 2000 Train loss: 0.084\n",
      "Epoch: 14/25 Iteration: 2100 Train loss: 0.193\n",
      "Epoch: 15/25 Iteration: 2200 Train loss: 0.003\n",
      "Epoch: 15/25 Iteration: 2300 Train loss: 0.302\n",
      "Epoch: 16/25 Iteration: 2400 Train loss: 0.145\n",
      "Epoch: 17/25 Iteration: 2500 Train loss: 0.116\n",
      "Epoch: 17/25 Iteration: 2600 Train loss: 0.396\n",
      "Epoch: 18/25 Iteration: 2700 Train loss: 0.939\n",
      "Epoch: 19/25 Iteration: 2800 Train loss: 0.055\n",
      "Epoch: 19/25 Iteration: 2900 Train loss: 0.039\n",
      "Epoch: 20/25 Iteration: 3000 Train loss: 0.020\n",
      "Epoch: 21/25 Iteration: 3100 Train loss: 0.972\n",
      "Epoch: 22/25 Iteration: 3200 Train loss: 0.384\n",
      "Epoch: 22/25 Iteration: 3300 Train loss: 0.581\n",
      "Epoch: 23/25 Iteration: 3400 Train loss: 0.197\n",
      "Epoch: 24/25 Iteration: 3500 Train loss: 0.073\n",
      "Epoch: 24/25 Iteration: 3600 Train loss: 0.141\n"
     ]
    }
   ],
   "source": [
    "epochs = 25\n",
    "from tensorflow.python import debug as tf_debug\n",
    "\n",
    "saver = tf.train.Saver()\n",
    "with tf.Session() as sess:\n",
    "    sess.run(tf.global_variables_initializer())\n",
    "   # sess = tf_debug.LocalCLIDebugWrapperSession(sess)\n",
    "   # sess.add_tensor_filter(\"has_inf_or_nan\", tf_debug.has_inf_or_nan)\n",
    "    train_writer = tf.summary.FileWriter('./logs/lstm-chatbot/train', sess.graph)\n",
    "    test_writer = tf.summary.FileWriter('./logs/lstm-chatbot/test', sess.graph)\n",
    "    iteration = 1\n",
    "    for epoch in range(epochs):\n",
    "        #state = sess.run(initial_state)\n",
    "        for ii, (x, y) in enumerate(get_batches(train_x, train_y, batch_size), 1):\n",
    "            x  =  np.reshape(x, newshape = [batch_size ,lexicon_size, 1])\n",
    "            y =  np.reshape(y, newshape=[batch_size,1])\n",
    "            feed = {inputs: x,outputs : y}\n",
    "            #sess.run(outputs, feed_dict=feed)\n",
    "            #print(outputs.eval(feed_dict=feed))\n",
    "            pre,summary, loss, _ = sess.run([pred,merged, cost, optimizer], feed_dict=feed)\n",
    "            train_writer.add_summary(summary, iteration)\n",
    "        \n",
    "            if iteration%100 == 0:\n",
    "                print(\"Epoch: {}/{}\".format(epoch, epochs),\n",
    "                      \"Iteration: {}\".format(iteration),\n",
    "                      \"Train loss: {:.3f}\".format(loss))\n",
    "                   \n",
    "            iteration +=1\n",
    "     \n",
    "            \n",
    "    saver.save(sess, \"checkpoints/lstm_chatbot.ckpt\")\n",
    " \n",
    "    \n",
    "    \n",
    "    "
   ]
  },
  {
   "cell_type": "code",
   "execution_count": 27,
   "metadata": {},
   "outputs": [
    {
     "name": "stdout",
     "output_type": "stream",
     "text": [
      "INFO:tensorflow:Restoring parameters from checkpoints/lstm_chatbot.ckpt\n",
      "[[ 0.          0.          5.34603268]]\n",
      "rnn/basic_lstm_cell/kernel:0\n",
      "rnn/basic_lstm_cell/bias:0\n",
      "fully_connected/weights:0\n",
      "fully_connected/biases:0\n"
     ]
    }
   ],
   "source": [
    "test_batch = 1\n",
    "tf.reset_default_graph()\n",
    "test_input = tf.placeholder(tf.float64, [test_batch, lexicon_size, 1], name=\"test_inputs\")\n",
    "test_prediction = create_lstm_network(test_batch, test_input)\n",
    "with tf.Session() as sess:\n",
    "    #test_prediction = create_lstm_network(test_batch, test_input)\n",
    "    sess.run(tf.global_variables_initializer())\n",
    "    saver =  tf.train.Saver()\n",
    "    # = tf.train.import_meta_graph('checkpoints/lstm_chatbot.ckpt.meta')\n",
    "    saver.restore(sess,tf.train.latest_checkpoint('checkpoints/'))\n",
    "    tr_data = processor.vectorize_input(\"us president\")\n",
    "    tr_data = np.reshape(tr_data, newshape=[test_batch, lexicon_size , 1])\n",
    "    pred_class = sess.run(test_prediction, feed_dict={test_input:tr_data})\n",
    "    print(pred_class)\n",
    "    for var in tf.trainable_variables():\n",
    "        print(var.name)\n",
    "            \n",
    "      \n",
    "\n",
    "\n",
    "\n",
    "\n",
    "\n",
    "\n",
    "\n",
    "\n",
    "\n",
    "    "
   ]
  },
  {
   "cell_type": "code",
   "execution_count": null,
   "metadata": {
    "collapsed": true
   },
   "outputs": [],
   "source": []
  },
  {
   "cell_type": "code",
   "execution_count": null,
   "metadata": {
    "collapsed": true
   },
   "outputs": [],
   "source": []
  },
  {
   "cell_type": "code",
   "execution_count": null,
   "metadata": {
    "collapsed": true
   },
   "outputs": [],
   "source": []
  }
 ],
 "metadata": {
  "kernelspec": {
   "display_name": "Python 3",
   "language": "python",
   "name": "python3"
  },
  "language_info": {
   "codemirror_mode": {
    "name": "ipython",
    "version": 3
   },
   "file_extension": ".py",
   "mimetype": "text/x-python",
   "name": "python",
   "nbconvert_exporter": "python",
   "pygments_lexer": "ipython3",
   "version": "3.6.3"
  }
 },
 "nbformat": 4,
 "nbformat_minor": 2
}
